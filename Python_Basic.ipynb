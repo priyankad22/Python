{
  "nbformat": 4,
  "nbformat_minor": 0,
  "metadata": {
    "colab": {
      "name": "Python Basic.ipynb",
      "provenance": [],
      "collapsed_sections": [],
      "authorship_tag": "ABX9TyNA4v6mg1ADiLvQCAfSnxdz",
      "include_colab_link": true
    },
    "kernelspec": {
      "name": "python3",
      "display_name": "Python 3"
    }
  },
  "cells": [
    {
      "cell_type": "markdown",
      "metadata": {
        "id": "view-in-github",
        "colab_type": "text"
      },
      "source": [
        "<a href=\"https://colab.research.google.com/github/priyankad22/Python/blob/main/Python_Basic.ipynb\" target=\"_parent\"><img src=\"https://colab.research.google.com/assets/colab-badge.svg\" alt=\"Open In Colab\"/></a>"
      ]
    },
    {
      "cell_type": "code",
      "metadata": {
        "colab": {
          "base_uri": "https://localhost:8080/"
        },
        "id": "9ZqLbjYBGsMj",
        "outputId": "8825399e-6f0f-4c6b-cb81-696bc27f8b2c"
      },
      "source": [
        "# Using of \\n and \\t\r\n",
        "print(\"Twinkle, Twinkle, little star,\\n\\t How I wonder what you are!\\n\\t\\tUp above the world so high,\\n\\t\\tLike a diamond in the sky.\\nTwinkle, Twinkle, little star,\\n\\t How I wonder what you are\")"
      ],
      "execution_count": 27,
      "outputs": [
        {
          "output_type": "stream",
          "text": [
            "Twinkle, Twinkle, little star,\n",
            "\t How I wonder what you are!\n",
            "\t\tUp above the world so high,\n",
            "\t\tLike a diamond in the sky.\n",
            "Twinkle, Twinkle, little star,\n",
            "\t How I wonder what you are\n"
          ],
          "name": "stdout"
        }
      ]
    },
    {
      "cell_type": "code",
      "metadata": {
        "colab": {
          "base_uri": "https://localhost:8080/"
        },
        "id": "LPEFNAZBHOXt",
        "outputId": "27eccbee-1232-4a4c-95d8-f40d5d70e36e"
      },
      "source": [
        "# Python version I am using\r\n",
        "import sys\r\n",
        "print(\"Python version: \",sys.version)\r\n",
        "print(\"Version info: \",sys.version_info)"
      ],
      "execution_count": 28,
      "outputs": [
        {
          "output_type": "stream",
          "text": [
            "Python version:  3.6.9 (default, Oct  8 2020, 12:12:24) \n",
            "[GCC 8.4.0]\n",
            "Version info:  sys.version_info(major=3, minor=6, micro=9, releaselevel='final', serial=0)\n"
          ],
          "name": "stdout"
        }
      ]
    },
    {
      "cell_type": "code",
      "metadata": {
        "colab": {
          "base_uri": "https://localhost:8080/"
        },
        "id": "nz67PqVwIVjY",
        "outputId": "7da59896-cfdf-420e-8fff-a12c97ad611b"
      },
      "source": [
        "# Current data and time\r\n",
        "import datetime\r\n",
        "date_time = datetime.datetime.now()\r\n",
        "print(\"Current date and time: \",date_time.strftime(\"%Y-%m-%d %H:%M:%S\"))"
      ],
      "execution_count": 29,
      "outputs": [
        {
          "output_type": "stream",
          "text": [
            "Current date and time:  2021-01-04 16:47:47\n"
          ],
          "name": "stdout"
        }
      ]
    },
    {
      "cell_type": "code",
      "metadata": {
        "colab": {
          "base_uri": "https://localhost:8080/"
        },
        "id": "nyk3GPgwMiox",
        "outputId": "47676f42-9fa7-4a88-8469-41be39004dd0"
      },
      "source": [
        "# Area of a circle\r\n",
        "from math import pi\r\n",
        "r = float(input(\"input the radious of the circle: \"))\r\n",
        "print(\"The area of the circle: \",pi*r**2)"
      ],
      "execution_count": 23,
      "outputs": [
        {
          "output_type": "stream",
          "text": [
            "input the radious of the circle: 1.1\n",
            "The area of the circle:  3.8013271108436504\n"
          ],
          "name": "stdout"
        }
      ]
    },
    {
      "cell_type": "code",
      "metadata": {
        "colab": {
          "base_uri": "https://localhost:8080/"
        },
        "id": "o3syZXx3NxJb",
        "outputId": "e9611c52-1056-497b-bb0a-22a34bfdb17e"
      },
      "source": [
        "# Accept the user's first and last name and print them in reverse order with a space between them\r\n",
        "a = input(\"Enter first name: \")\r\n",
        "b = input(\"Enter last name: \")\r\n",
        "print(\"Hello: \"+b+\" \"+a)"
      ],
      "execution_count": 44,
      "outputs": [
        {
          "output_type": "stream",
          "text": [
            "Enter first name: Raman\n",
            "Enter last name: Maiti\n",
            "Hello: Maiti Raman\n"
          ],
          "name": "stdout"
        }
      ]
    },
    {
      "cell_type": "code",
      "metadata": {
        "id": "VJpaqA34TLSJ"
      },
      "source": [
        ""
      ],
      "execution_count": null,
      "outputs": []
    }
  ]
}